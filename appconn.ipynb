{
 "cells": [
  {
   "cell_type": "code",
   "execution_count": 1,
   "metadata": {},
   "outputs": [],
   "source": [
    "import websocket\n",
    "try:\n",
    "    import thread\n",
    "except ImportError:\n",
    "    import _thread as thread\n",
    "import time\n",
    "import json"
   ]
  },
  {
   "cell_type": "markdown",
   "metadata": {},
   "source": [
    "### Callback functions"
   ]
  },
  {
   "cell_type": "code",
   "execution_count": 2,
   "metadata": {},
   "outputs": [],
   "source": [
    "def on_message(ws, message):\n",
    "    print(message)\n",
    "\n",
    "def on_error(ws, error):\n",
    "    print(error)\n",
    "\n",
    "def on_close(ws):\n",
    "    print(\"### closed ###\")\n",
    "\n",
    "def on_open(ws):\n",
    "    print('onopen')"
   ]
  },
  {
   "cell_type": "markdown",
   "metadata": {},
   "source": [
    "### Create Connection with the app"
   ]
  },
  {
   "cell_type": "code",
   "execution_count": 3,
   "metadata": {},
   "outputs": [],
   "source": [
    "websocket.enableTrace(True)\n",
    "ws = websocket.WebSocketApp(\"ws://10.0.0.12:8080\",  on_message = on_message,  on_error = on_error, on_close = on_close)\n",
    "ws.on_open = on_open"
   ]
  },
  {
   "cell_type": "code",
   "execution_count": null,
   "metadata": {},
   "outputs": [
    {
     "data": {
      "text/plain": [
       "15524"
      ]
     },
     "execution_count": 4,
     "metadata": {},
     "output_type": "execute_result"
    },
    {
     "name": "stderr",
     "output_type": "stream",
     "text": [
      "--- request header ---\n",
      "GET / HTTP/1.1\n",
      "Upgrade: websocket\n",
      "Host: 10.0.0.12:8080\n",
      "Origin: http://10.0.0.12:8080\n",
      "Sec-WebSocket-Key: a1Kubav3xbJYc4lS3bI/KA==\n",
      "Sec-WebSocket-Version: 13\n",
      "Connection: Upgrade\n",
      "\n",
      "\n",
      "-----------------------\n",
      "--- response header ---\n",
      "HTTP/1.1 101 Switching Protocols\n",
      "Connection: Upgrade\n",
      "Upgrade: websocket\n",
      "Sec-WebSocket-Accept: kov4t+Gh4j7RgjJZ2IjjOJ0ymtI=\n",
      "-----------------------\n",
      "websocket connected\n"
     ]
    },
    {
     "name": "stdout",
     "output_type": "stream",
     "text": [
      "onopen\n"
     ]
    },
    {
     "name": "stderr",
     "output_type": "stream",
     "text": [
      "++Rcv raw: b'\\x811{\"type\":\"button\",\"data\":\"enabled\",\"pressed\":true}'\n",
      "++Rcv decoded: fin=1 opcode=1 data=b'{\"type\":\"button\",\"data\":\"enabled\",\"pressed\":true}'\n"
     ]
    },
    {
     "name": "stdout",
     "output_type": "stream",
     "text": [
      "{\"type\":\"button\",\"data\":\"enabled\",\"pressed\":true}\n"
     ]
    },
    {
     "name": "stderr",
     "output_type": "stream",
     "text": [
      "++Rcv raw: b'\\x81,{\"type\":\"button\",\"data\":\"X-\",\"pressed\":true}'\n",
      "++Rcv decoded: fin=1 opcode=1 data=b'{\"type\":\"button\",\"data\":\"X-\",\"pressed\":true}'\n",
      "++Rcv raw: b'\\x81,{\"type\":\"button\",\"data\":\"X-\",\"pressed\":true}'\n",
      "++Rcv decoded: fin=1 opcode=1 data=b'{\"type\":\"button\",\"data\":\"X-\",\"pressed\":true}'\n",
      "++Rcv raw: b'\\x81,{\"type\":\"button\",\"data\":\"X-\",\"pressed\":true}'\n",
      "++Rcv decoded: fin=1 opcode=1 data=b'{\"type\":\"button\",\"data\":\"X-\",\"pressed\":true}'\n",
      "++Rcv raw: b'\\x81,{\"type\":\"button\",\"data\":\"X-\",\"pressed\":true}'\n",
      "++Rcv decoded: fin=1 opcode=1 data=b'{\"type\":\"button\",\"data\":\"X-\",\"pressed\":true}'\n",
      "++Rcv raw: b'\\x81,{\"type\":\"button\",\"data\":\"X-\",\"pressed\":true}'\n",
      "++Rcv decoded: fin=1 opcode=1 data=b'{\"type\":\"button\",\"data\":\"X-\",\"pressed\":true}'\n",
      "++Rcv raw: b'\\x81,{\"type\":\"button\",\"data\":\"X-\",\"pressed\":true}'\n",
      "++Rcv decoded: fin=1 opcode=1 data=b'{\"type\":\"button\",\"data\":\"X-\",\"pressed\":true}'\n",
      "++Rcv raw: b'\\x81,{\"type\":\"button\",\"data\":\"X-\",\"pressed\":true}'\n",
      "++Rcv decoded: fin=1 opcode=1 data=b'{\"type\":\"button\",\"data\":\"X-\",\"pressed\":true}'\n",
      "++Rcv raw: b'\\x81,{\"type\":\"button\",\"data\":\"X-\",\"pressed\":true}'\n",
      "++Rcv decoded: fin=1 opcode=1 data=b'{\"type\":\"button\",\"data\":\"X-\",\"pressed\":true}'\n",
      "++Rcv raw: b'\\x81,{\"type\":\"button\",\"data\":\"X-\",\"pressed\":true}'\n",
      "++Rcv decoded: fin=1 opcode=1 data=b'{\"type\":\"button\",\"data\":\"X-\",\"pressed\":true}'\n",
      "++Rcv raw: b'\\x81,{\"type\":\"button\",\"data\":\"X-\",\"pressed\":true}'\n",
      "++Rcv decoded: fin=1 opcode=1 data=b'{\"type\":\"button\",\"data\":\"X-\",\"pressed\":true}'\n",
      "++Rcv raw: b'\\x81,{\"type\":\"button\",\"data\":\"X-\",\"pressed\":true}'\n",
      "++Rcv decoded: fin=1 opcode=1 data=b'{\"type\":\"button\",\"data\":\"X-\",\"pressed\":true}'\n"
     ]
    },
    {
     "name": "stdout",
     "output_type": "stream",
     "text": [
      "{\"type\":\"button\",\"data\":\"X-\",\"pressed\":true}\n",
      "{\"type\":\"button\",\"data\":\"X-\",\"pressed\":true}\n",
      "{\"type\":\"button\",\"data\":\"X-\",\"pressed\":true}\n",
      "{\"type\":\"button\",\"data\":\"X-\",\"pressed\":true}\n",
      "{\"type\":\"button\",\"data\":\"X-\",\"pressed\":true}\n",
      "{\"type\":\"button\",\"data\":\"X-\",\"pressed\":true}\n",
      "{\"type\":\"button\",\"data\":\"X-\",\"pressed\":true}\n",
      "{\"type\":\"button\",\"data\":\"X-\",\"pressed\":true}\n",
      "{\"type\":\"button\",\"data\":\"X-\",\"pressed\":true}\n",
      "{\"type\":\"button\",\"data\":\"X-\",\"pressed\":true}\n",
      "{\"type\":\"button\",\"data\":\"X-\",\"pressed\":true}\n"
     ]
    },
    {
     "name": "stderr",
     "output_type": "stream",
     "text": [
      "++Rcv raw: b'\\x81,{\"type\":\"button\",\"data\":\"X-\",\"pressed\":true}'\n",
      "++Rcv decoded: fin=1 opcode=1 data=b'{\"type\":\"button\",\"data\":\"X-\",\"pressed\":true}'\n",
      "++Rcv raw: b'\\x81,{\"type\":\"button\",\"data\":\"X-\",\"pressed\":true}'\n",
      "++Rcv decoded: fin=1 opcode=1 data=b'{\"type\":\"button\",\"data\":\"X-\",\"pressed\":true}'\n",
      "++Rcv raw: b'\\x81,{\"type\":\"button\",\"data\":\"X-\",\"pressed\":true}'\n",
      "++Rcv decoded: fin=1 opcode=1 data=b'{\"type\":\"button\",\"data\":\"X-\",\"pressed\":true}'\n",
      "++Rcv raw: b'\\x81,{\"type\":\"button\",\"data\":\"X-\",\"pressed\":true}'\n",
      "++Rcv decoded: fin=1 opcode=1 data=b'{\"type\":\"button\",\"data\":\"X-\",\"pressed\":true}'\n",
      "++Rcv raw: b'\\x81,{\"type\":\"button\",\"data\":\"X-\",\"pressed\":true}'\n",
      "++Rcv decoded: fin=1 opcode=1 data=b'{\"type\":\"button\",\"data\":\"X-\",\"pressed\":true}'\n",
      "++Rcv raw: b'\\x81,{\"type\":\"button\",\"data\":\"X-\",\"pressed\":true}'\n",
      "++Rcv decoded: fin=1 opcode=1 data=b'{\"type\":\"button\",\"data\":\"X-\",\"pressed\":true}'\n",
      "++Rcv raw: b'\\x81,{\"type\":\"button\",\"data\":\"X-\",\"pressed\":true}'\n",
      "++Rcv decoded: fin=1 opcode=1 data=b'{\"type\":\"button\",\"data\":\"X-\",\"pressed\":true}'\n",
      "++Rcv raw: b'\\x81,{\"type\":\"button\",\"data\":\"X-\",\"pressed\":true}'\n",
      "++Rcv decoded: fin=1 opcode=1 data=b'{\"type\":\"button\",\"data\":\"X-\",\"pressed\":true}'\n",
      "++Rcv raw: b'\\x81,{\"type\":\"button\",\"data\":\"X-\",\"pressed\":true}'\n",
      "++Rcv decoded: fin=1 opcode=1 data=b'{\"type\":\"button\",\"data\":\"X-\",\"pressed\":true}'\n",
      "++Rcv raw: b'\\x81,{\"type\":\"button\",\"data\":\"X-\",\"pressed\":true}'\n",
      "++Rcv decoded: fin=1 opcode=1 data=b'{\"type\":\"button\",\"data\":\"X-\",\"pressed\":true}'\n",
      "++Rcv raw: b'\\x81,{\"type\":\"button\",\"data\":\"X-\",\"pressed\":true}'\n",
      "++Rcv decoded: fin=1 opcode=1 data=b'{\"type\":\"button\",\"data\":\"X-\",\"pressed\":true}'\n",
      "++Rcv raw: b'\\x81,{\"type\":\"button\",\"data\":\"X-\",\"pressed\":true}'\n",
      "++Rcv decoded: fin=1 opcode=1 data=b'{\"type\":\"button\",\"data\":\"X-\",\"pressed\":true}'\n",
      "++Rcv raw: b'\\x81,{\"type\":\"button\",\"data\":\"X-\",\"pressed\":true}'\n",
      "++Rcv decoded: fin=1 opcode=1 data=b'{\"type\":\"button\",\"data\":\"X-\",\"pressed\":true}'\n",
      "++Rcv raw: b'\\x81,{\"type\":\"button\",\"data\":\"X-\",\"pressed\":true}'\n"
     ]
    },
    {
     "name": "stdout",
     "output_type": "stream",
     "text": [
      "{\"type\":\"button\",\"data\":\"X-\",\"pressed\":true}\n",
      "{\"type\":\"button\",\"data\":\"X-\",\"pressed\":true}\n",
      "{\"type\":\"button\",\"data\":\"X-\",\"pressed\":true}\n",
      "{\"type\":\"button\",\"data\":\"X-\",\"pressed\":true}\n",
      "{\"type\":\"button\",\"data\":\"X-\",\"pressed\":true}\n",
      "{\"type\":\"button\",\"data\":\"X-\",\"pressed\":true}\n",
      "{\"type\":\"button\",\"data\":\"X-\",\"pressed\":true}\n",
      "{\"type\":\"button\",\"data\":\"X-\",\"pressed\":true}\n",
      "{\"type\":\"button\",\"data\":\"X-\",\"pressed\":true}\n",
      "{\"type\":\"button\",\"data\":\"X-\",\"pressed\":true}\n",
      "{\"type\":\"button\",\"data\":\"X-\",\"pressed\":true}\n",
      "{\"type\":\"button\",\"data\":\"X-\",\"pressed\":true}\n",
      "{\"type\":\"button\",\"data\":\"X-\",\"pressed\":true}\n"
     ]
    },
    {
     "name": "stderr",
     "output_type": "stream",
     "text": [
      "++Rcv decoded: fin=1 opcode=1 data=b'{\"type\":\"button\",\"data\":\"X-\",\"pressed\":true}'\n",
      "++Rcv raw: b'\\x81,{\"type\":\"button\",\"data\":\"X-\",\"pressed\":true}'\n",
      "++Rcv decoded: fin=1 opcode=1 data=b'{\"type\":\"button\",\"data\":\"X-\",\"pressed\":true}'\n",
      "++Rcv raw: b'\\x81,{\"type\":\"button\",\"data\":\"X-\",\"pressed\":true}'\n",
      "++Rcv decoded: fin=1 opcode=1 data=b'{\"type\":\"button\",\"data\":\"X-\",\"pressed\":true}'\n",
      "++Rcv raw: b'\\x81,{\"type\":\"button\",\"data\":\"X-\",\"pressed\":true}'\n",
      "++Rcv decoded: fin=1 opcode=1 data=b'{\"type\":\"button\",\"data\":\"X-\",\"pressed\":true}'\n",
      "++Rcv raw: b'\\x81,{\"type\":\"button\",\"data\":\"X-\",\"pressed\":true}'\n",
      "++Rcv decoded: fin=1 opcode=1 data=b'{\"type\":\"button\",\"data\":\"X-\",\"pressed\":true}'\n",
      "++Rcv raw: b'\\x81,{\"type\":\"button\",\"data\":\"X-\",\"pressed\":true}'\n",
      "++Rcv decoded: fin=1 opcode=1 data=b'{\"type\":\"button\",\"data\":\"X-\",\"pressed\":true}'\n",
      "++Rcv raw: b'\\x81,{\"type\":\"button\",\"data\":\"X-\",\"pressed\":true}'\n",
      "++Rcv decoded: fin=1 opcode=1 data=b'{\"type\":\"button\",\"data\":\"X-\",\"pressed\":true}'\n",
      "++Rcv raw: b'\\x81,{\"type\":\"button\",\"data\":\"X-\",\"pressed\":true}'\n",
      "++Rcv decoded: fin=1 opcode=1 data=b'{\"type\":\"button\",\"data\":\"X-\",\"pressed\":true}'\n"
     ]
    },
    {
     "name": "stdout",
     "output_type": "stream",
     "text": [
      "{\"type\":\"button\",\"data\":\"X-\",\"pressed\":true}\n",
      "{\"type\":\"button\",\"data\":\"X-\",\"pressed\":true}\n",
      "{\"type\":\"button\",\"data\":\"X-\",\"pressed\":true}\n",
      "{\"type\":\"button\",\"data\":\"X-\",\"pressed\":true}\n",
      "{\"type\":\"button\",\"data\":\"X-\",\"pressed\":true}\n",
      "{\"type\":\"button\",\"data\":\"X-\",\"pressed\":true}\n",
      "{\"type\":\"button\",\"data\":\"X-\",\"pressed\":true}\n",
      "{\"type\":\"button\",\"data\":\"X-\",\"pressed\":true}\n"
     ]
    },
    {
     "name": "stderr",
     "output_type": "stream",
     "text": [
      "++Rcv raw: b'\\x81,{\"type\":\"button\",\"data\":\"X-\",\"pressed\":true}'\n",
      "++Rcv decoded: fin=1 opcode=1 data=b'{\"type\":\"button\",\"data\":\"X-\",\"pressed\":true}'\n",
      "++Rcv raw: b'\\x81,{\"type\":\"button\",\"data\":\"X-\",\"pressed\":true}'\n",
      "++Rcv decoded: fin=1 opcode=1 data=b'{\"type\":\"button\",\"data\":\"X-\",\"pressed\":true}'\n"
     ]
    },
    {
     "name": "stdout",
     "output_type": "stream",
     "text": [
      "{\"type\":\"button\",\"data\":\"X-\",\"pressed\":true}\n",
      "{\"type\":\"button\",\"data\":\"X-\",\"pressed\":true}\n"
     ]
    },
    {
     "name": "stderr",
     "output_type": "stream",
     "text": [
      "++Rcv raw: b'\\x81,{\"type\":\"button\",\"data\":\"X-\",\"pressed\":true}'\n",
      "++Rcv decoded: fin=1 opcode=1 data=b'{\"type\":\"button\",\"data\":\"X-\",\"pressed\":true}'\n",
      "++Rcv raw: b'\\x81,{\"type\":\"button\",\"data\":\"X-\",\"pressed\":true}'\n",
      "++Rcv decoded: fin=1 opcode=1 data=b'{\"type\":\"button\",\"data\":\"X-\",\"pressed\":true}'\n"
     ]
    },
    {
     "name": "stdout",
     "output_type": "stream",
     "text": [
      "{\"type\":\"button\",\"data\":\"X-\",\"pressed\":true}\n",
      "{\"type\":\"button\",\"data\":\"X-\",\"pressed\":true}\n"
     ]
    },
    {
     "name": "stderr",
     "output_type": "stream",
     "text": [
      "++Rcv raw: b'\\x81,{\"type\":\"button\",\"data\":\"X-\",\"pressed\":true}'\n",
      "++Rcv decoded: fin=1 opcode=1 data=b'{\"type\":\"button\",\"data\":\"X-\",\"pressed\":true}'\n",
      "++Rcv raw: b'\\x81,{\"type\":\"button\",\"data\":\"X-\",\"pressed\":true}'\n",
      "++Rcv decoded: fin=1 opcode=1 data=b'{\"type\":\"button\",\"data\":\"X-\",\"pressed\":true}'\n",
      "++Rcv raw: b'\\x81-{\"type\":\"button\",\"data\":\"X-\",\"pressed\":false}'\n",
      "++Rcv decoded: fin=1 opcode=1 data=b'{\"type\":\"button\",\"data\":\"X-\",\"pressed\":false}'\n"
     ]
    },
    {
     "name": "stdout",
     "output_type": "stream",
     "text": [
      "{\"type\":\"button\",\"data\":\"X-\",\"pressed\":true}\n",
      "{\"type\":\"button\",\"data\":\"X-\",\"pressed\":true}\n",
      "{\"type\":\"button\",\"data\":\"X-\",\"pressed\":false}\n"
     ]
    },
    {
     "name": "stderr",
     "output_type": "stream",
     "text": [
      "++Rcv raw: b'\\x81,{\"type\":\"button\",\"data\":\"Y-\",\"pressed\":true}'\n",
      "++Rcv decoded: fin=1 opcode=1 data=b'{\"type\":\"button\",\"data\":\"Y-\",\"pressed\":true}'\n",
      "++Rcv raw: b'\\x81,{\"type\":\"button\",\"data\":\"Y-\",\"pressed\":true}'\n",
      "++Rcv decoded: fin=1 opcode=1 data=b'{\"type\":\"button\",\"data\":\"Y-\",\"pressed\":true}'\n",
      "++Rcv raw: b'\\x81,{\"type\":\"button\",\"data\":\"Y-\",\"pressed\":true}'\n",
      "++Rcv decoded: fin=1 opcode=1 data=b'{\"type\":\"button\",\"data\":\"Y-\",\"pressed\":true}'\n",
      "++Rcv raw: b'\\x81,{\"type\":\"button\",\"data\":\"Y-\",\"pressed\":true}'\n",
      "++Rcv decoded: fin=1 opcode=1 data=b'{\"type\":\"button\",\"data\":\"Y-\",\"pressed\":true}'\n",
      "++Rcv raw: b'\\x81,{\"type\":\"button\",\"data\":\"Y-\",\"pressed\":true}'\n",
      "++Rcv decoded: fin=1 opcode=1 data=b'{\"type\":\"button\",\"data\":\"Y-\",\"pressed\":true}'\n",
      "++Rcv raw: b'\\x81,{\"type\":\"button\",\"data\":\"Y-\",\"pressed\":true}'\n",
      "++Rcv decoded: fin=1 opcode=1 data=b'{\"type\":\"button\",\"data\":\"Y-\",\"pressed\":true}'\n",
      "++Rcv raw: b'\\x81,{\"type\":\"button\",\"data\":\"Y-\",\"pressed\":true}'\n",
      "++Rcv decoded: fin=1 opcode=1 data=b'{\"type\":\"button\",\"data\":\"Y-\",\"pressed\":true}'\n",
      "++Rcv raw: b'\\x81,{\"type\":\"button\",\"data\":\"Y-\",\"pressed\":true}'\n",
      "++Rcv decoded: fin=1 opcode=1 data=b'{\"type\":\"button\",\"data\":\"Y-\",\"pressed\":true}'\n",
      "++Rcv raw: b'\\x81,{\"type\":\"button\",\"data\":\"Y-\",\"pressed\":true}'\n"
     ]
    },
    {
     "name": "stdout",
     "output_type": "stream",
     "text": [
      "{\"type\":\"button\",\"data\":\"Y-\",\"pressed\":true}\n",
      "{\"type\":\"button\",\"data\":\"Y-\",\"pressed\":true}\n",
      "{\"type\":\"button\",\"data\":\"Y-\",\"pressed\":true}\n",
      "{\"type\":\"button\",\"data\":\"Y-\",\"pressed\":true}\n",
      "{\"type\":\"button\",\"data\":\"Y-\",\"pressed\":true}\n",
      "{\"type\":\"button\",\"data\":\"Y-\",\"pressed\":true}\n",
      "{\"type\":\"button\",\"data\":\"Y-\",\"pressed\":true}\n",
      "{\"type\":\"button\",\"data\":\"Y-\",\"pressed\":true}\n"
     ]
    },
    {
     "name": "stderr",
     "output_type": "stream",
     "text": [
      "++Rcv decoded: fin=1 opcode=1 data=b'{\"type\":\"button\",\"data\":\"Y-\",\"pressed\":true}'\n",
      "++Rcv raw: b'\\x81,{\"type\":\"button\",\"data\":\"Y-\",\"pressed\":true}'\n",
      "++Rcv decoded: fin=1 opcode=1 data=b'{\"type\":\"button\",\"data\":\"Y-\",\"pressed\":true}'\n",
      "++Rcv raw: b'\\x81,{\"type\":\"button\",\"data\":\"Y-\",\"pressed\":true}'\n",
      "++Rcv decoded: fin=1 opcode=1 data=b'{\"type\":\"button\",\"data\":\"Y-\",\"pressed\":true}'\n",
      "++Rcv raw: b'\\x81,{\"type\":\"button\",\"data\":\"Y-\",\"pressed\":true}'\n",
      "++Rcv decoded: fin=1 opcode=1 data=b'{\"type\":\"button\",\"data\":\"Y-\",\"pressed\":true}'\n",
      "++Rcv raw: b'\\x81,{\"type\":\"button\",\"data\":\"Y-\",\"pressed\":true}'\n",
      "++Rcv decoded: fin=1 opcode=1 data=b'{\"type\":\"button\",\"data\":\"Y-\",\"pressed\":true}'\n",
      "++Rcv raw: b'\\x81,{\"type\":\"button\",\"data\":\"Y-\",\"pressed\":true}'\n",
      "++Rcv decoded: fin=1 opcode=1 data=b'{\"type\":\"button\",\"data\":\"Y-\",\"pressed\":true}'\n",
      "++Rcv raw: b'\\x81,{\"type\":\"button\",\"data\":\"Y-\",\"pressed\":true}'\n",
      "++Rcv decoded: fin=1 opcode=1 data=b'{\"type\":\"button\",\"data\":\"Y-\",\"pressed\":true}'\n",
      "++Rcv raw: b'\\x81,{\"type\":\"button\",\"data\":\"Y-\",\"pressed\":true}'\n",
      "++Rcv decoded: fin=1 opcode=1 data=b'{\"type\":\"button\",\"data\":\"Y-\",\"pressed\":true}'\n",
      "++Rcv raw: b'\\x81,{\"type\":\"button\",\"data\":\"Y-\",\"pressed\":true}'\n",
      "++Rcv decoded: fin=1 opcode=1 data=b'{\"type\":\"button\",\"data\":\"Y-\",\"pressed\":true}'\n",
      "++Rcv raw: b'\\x81,{\"type\":\"button\",\"data\":\"Y-\",\"pressed\":true}'\n",
      "++Rcv decoded: fin=1 opcode=1 data=b'{\"type\":\"button\",\"data\":\"Y-\",\"pressed\":true}'\n",
      "++Rcv raw: b'\\x81,{\"type\":\"button\",\"data\":\"Y-\",\"pressed\":true}'\n",
      "++Rcv decoded: fin=1 opcode=1 data=b'{\"type\":\"button\",\"data\":\"Y-\",\"pressed\":true}'\n",
      "++Rcv raw: b'\\x81,{\"type\":\"button\",\"data\":\"Y-\",\"pressed\":true}'\n",
      "++Rcv decoded: fin=1 opcode=1 data=b'{\"type\":\"button\",\"data\":\"Y-\",\"pressed\":true}'\n",
      "++Rcv raw: b'\\x81,{\"type\":\"button\",\"data\":\"Y-\",\"pressed\":true}'\n",
      "++Rcv decoded: fin=1 opcode=1 data=b'{\"type\":\"button\",\"data\":\"Y-\",\"pressed\":true}'\n",
      "++Rcv raw: b'\\x81,{\"type\":\"button\",\"data\":\"Y-\",\"pressed\":true}'\n",
      "++Rcv decoded: fin=1 opcode=1 data=b'{\"type\":\"button\",\"data\":\"Y-\",\"pressed\":true}'\n"
     ]
    },
    {
     "name": "stdout",
     "output_type": "stream",
     "text": [
      "{\"type\":\"button\",\"data\":\"Y-\",\"pressed\":true}\n",
      "{\"type\":\"button\",\"data\":\"Y-\",\"pressed\":true}\n",
      "{\"type\":\"button\",\"data\":\"Y-\",\"pressed\":true}\n",
      "{\"type\":\"button\",\"data\":\"Y-\",\"pressed\":true}\n",
      "{\"type\":\"button\",\"data\":\"Y-\",\"pressed\":true}\n",
      "{\"type\":\"button\",\"data\":\"Y-\",\"pressed\":true}\n",
      "{\"type\":\"button\",\"data\":\"Y-\",\"pressed\":true}\n",
      "{\"type\":\"button\",\"data\":\"Y-\",\"pressed\":true}\n",
      "{\"type\":\"button\",\"data\":\"Y-\",\"pressed\":true}\n",
      "{\"type\":\"button\",\"data\":\"Y-\",\"pressed\":true}\n",
      "{\"type\":\"button\",\"data\":\"Y-\",\"pressed\":true}\n",
      "{\"type\":\"button\",\"data\":\"Y-\",\"pressed\":true}\n",
      "{\"type\":\"button\",\"data\":\"Y-\",\"pressed\":true}\n",
      "{\"type\":\"button\",\"data\":\"Y-\",\"pressed\":true}\n"
     ]
    },
    {
     "name": "stderr",
     "output_type": "stream",
     "text": [
      "++Rcv raw: b'\\x81,{\"type\":\"button\",\"data\":\"Y-\",\"pressed\":true}'\n",
      "++Rcv decoded: fin=1 opcode=1 data=b'{\"type\":\"button\",\"data\":\"Y-\",\"pressed\":true}'\n",
      "++Rcv raw: b'\\x81,{\"type\":\"button\",\"data\":\"Y-\",\"pressed\":true}'\n",
      "++Rcv decoded: fin=1 opcode=1 data=b'{\"type\":\"button\",\"data\":\"Y-\",\"pressed\":true}'\n",
      "++Rcv raw: b'\\x81,{\"type\":\"button\",\"data\":\"Y-\",\"pressed\":true}'\n",
      "++Rcv decoded: fin=1 opcode=1 data=b'{\"type\":\"button\",\"data\":\"Y-\",\"pressed\":true}'\n",
      "++Rcv raw: b'\\x81,{\"type\":\"button\",\"data\":\"Y-\",\"pressed\":true}'\n",
      "++Rcv decoded: fin=1 opcode=1 data=b'{\"type\":\"button\",\"data\":\"Y-\",\"pressed\":true}'\n",
      "++Rcv raw: b'\\x81,{\"type\":\"button\",\"data\":\"Y-\",\"pressed\":true}'\n",
      "++Rcv decoded: fin=1 opcode=1 data=b'{\"type\":\"button\",\"data\":\"Y-\",\"pressed\":true}'\n",
      "++Rcv raw: b'\\x81,{\"type\":\"button\",\"data\":\"Y-\",\"pressed\":true}'\n",
      "++Rcv decoded: fin=1 opcode=1 data=b'{\"type\":\"button\",\"data\":\"Y-\",\"pressed\":true}'\n",
      "++Rcv raw: b'\\x81,{\"type\":\"button\",\"data\":\"Y-\",\"pressed\":true}'\n",
      "++Rcv decoded: fin=1 opcode=1 data=b'{\"type\":\"button\",\"data\":\"Y-\",\"pressed\":true}'\n",
      "++Rcv raw: b'\\x81,{\"type\":\"button\",\"data\":\"Y-\",\"pressed\":true}'\n",
      "++Rcv decoded: fin=1 opcode=1 data=b'{\"type\":\"button\",\"data\":\"Y-\",\"pressed\":true}'\n",
      "++Rcv raw: b'\\x81,{\"type\":\"button\",\"data\":\"Y-\",\"pressed\":true}'\n",
      "++Rcv decoded: fin=1 opcode=1 data=b'{\"type\":\"button\",\"data\":\"Y-\",\"pressed\":true}'\n",
      "++Rcv raw: b'\\x81,{\"type\":\"button\",\"data\":\"Y-\",\"pressed\":true}'\n",
      "++Rcv decoded: fin=1 opcode=1 data=b'{\"type\":\"button\",\"data\":\"Y-\",\"pressed\":true}'\n"
     ]
    },
    {
     "name": "stdout",
     "output_type": "stream",
     "text": [
      "{\"type\":\"button\",\"data\":\"Y-\",\"pressed\":true}\n",
      "{\"type\":\"button\",\"data\":\"Y-\",\"pressed\":true}\n",
      "{\"type\":\"button\",\"data\":\"Y-\",\"pressed\":true}\n",
      "{\"type\":\"button\",\"data\":\"Y-\",\"pressed\":true}\n",
      "{\"type\":\"button\",\"data\":\"Y-\",\"pressed\":true}\n",
      "{\"type\":\"button\",\"data\":\"Y-\",\"pressed\":true}\n",
      "{\"type\":\"button\",\"data\":\"Y-\",\"pressed\":true}\n",
      "{\"type\":\"button\",\"data\":\"Y-\",\"pressed\":true}\n",
      "{\"type\":\"button\",\"data\":\"Y-\",\"pressed\":true}\n",
      "{\"type\":\"button\",\"data\":\"Y-\",\"pressed\":true}\n"
     ]
    },
    {
     "name": "stderr",
     "output_type": "stream",
     "text": [
      "++Rcv raw: b'\\x81,{\"type\":\"button\",\"data\":\"Y-\",\"pressed\":true}'\n",
      "++Rcv decoded: fin=1 opcode=1 data=b'{\"type\":\"button\",\"data\":\"Y-\",\"pressed\":true}'\n",
      "++Rcv raw: b'\\x81,{\"type\":\"button\",\"data\":\"Y-\",\"pressed\":true}'\n"
     ]
    },
    {
     "name": "stdout",
     "output_type": "stream",
     "text": [
      "{\"type\":\"button\",\"data\":\"Y-\",\"pressed\":true}\n"
     ]
    },
    {
     "name": "stderr",
     "output_type": "stream",
     "text": [
      "++Rcv decoded: fin=1 opcode=1 data=b'{\"type\":\"button\",\"data\":\"Y-\",\"pressed\":true}'\n",
      "++Rcv raw: b'\\x81-{\"type\":\"button\",\"data\":\"Y-\",\"pressed\":false}'\n",
      "++Rcv decoded: fin=1 opcode=1 data=b'{\"type\":\"button\",\"data\":\"Y-\",\"pressed\":false}'\n"
     ]
    },
    {
     "name": "stdout",
     "output_type": "stream",
     "text": [
      "{\"type\":\"button\",\"data\":\"Y-\",\"pressed\":true}\n",
      "{\"type\":\"button\",\"data\":\"Y-\",\"pressed\":false}\n"
     ]
    },
    {
     "name": "stderr",
     "output_type": "stream",
     "text": [
      "++Rcv raw: b'\\x81,{\"type\":\"button\",\"data\":\"X+\",\"pressed\":true}'\n",
      "++Rcv decoded: fin=1 opcode=1 data=b'{\"type\":\"button\",\"data\":\"X+\",\"pressed\":true}'\n",
      "++Rcv raw: b'\\x81,{\"type\":\"button\",\"data\":\"X+\",\"pressed\":true}'\n",
      "++Rcv decoded: fin=1 opcode=1 data=b'{\"type\":\"button\",\"data\":\"X+\",\"pressed\":true}'\n",
      "++Rcv raw: b'\\x81,{\"type\":\"button\",\"data\":\"X+\",\"pressed\":true}'\n",
      "++Rcv decoded: fin=1 opcode=1 data=b'{\"type\":\"button\",\"data\":\"X+\",\"pressed\":true}'\n",
      "++Rcv raw: b'\\x81,{\"type\":\"button\",\"data\":\"X+\",\"pressed\":true}'\n",
      "++Rcv decoded: fin=1 opcode=1 data=b'{\"type\":\"button\",\"data\":\"X+\",\"pressed\":true}'\n",
      "++Rcv raw: b'\\x81,{\"type\":\"button\",\"data\":\"X+\",\"pressed\":true}'\n",
      "++Rcv decoded: fin=1 opcode=1 data=b'{\"type\":\"button\",\"data\":\"X+\",\"pressed\":true}'\n",
      "++Rcv raw: b'\\x81,{\"type\":\"button\",\"data\":\"X+\",\"pressed\":true}'\n",
      "++Rcv decoded: fin=1 opcode=1 data=b'{\"type\":\"button\",\"data\":\"X+\",\"pressed\":true}'\n",
      "++Rcv raw: b'\\x81,{\"type\":\"button\",\"data\":\"X+\",\"pressed\":true}'\n",
      "++Rcv decoded: fin=1 opcode=1 data=b'{\"type\":\"button\",\"data\":\"X+\",\"pressed\":true}'\n",
      "++Rcv raw: b'\\x81,{\"type\":\"button\",\"data\":\"X+\",\"pressed\":true}'\n",
      "++Rcv decoded: fin=1 opcode=1 data=b'{\"type\":\"button\",\"data\":\"X+\",\"pressed\":true}'\n",
      "++Rcv raw: b'\\x81,{\"type\":\"button\",\"data\":\"X+\",\"pressed\":true}'\n",
      "++Rcv decoded: fin=1 opcode=1 data=b'{\"type\":\"button\",\"data\":\"X+\",\"pressed\":true}'\n",
      "++Rcv raw: b'\\x81,{\"type\":\"button\",\"data\":\"X+\",\"pressed\":true}'\n"
     ]
    },
    {
     "name": "stdout",
     "output_type": "stream",
     "text": [
      "{\"type\":\"button\",\"data\":\"X+\",\"pressed\":true}\n",
      "{\"type\":\"button\",\"data\":\"X+\",\"pressed\":true}\n",
      "{\"type\":\"button\",\"data\":\"X+\",\"pressed\":true}\n",
      "{\"type\":\"button\",\"data\":\"X+\",\"pressed\":true}\n",
      "{\"type\":\"button\",\"data\":\"X+\",\"pressed\":true}\n",
      "{\"type\":\"button\",\"data\":\"X+\",\"pressed\":true}\n",
      "{\"type\":\"button\",\"data\":\"X+\",\"pressed\":true}\n",
      "{\"type\":\"button\",\"data\":\"X+\",\"pressed\":true}\n",
      "{\"type\":\"button\",\"data\":\"X+\",\"pressed\":true}\n"
     ]
    },
    {
     "name": "stderr",
     "output_type": "stream",
     "text": [
      "++Rcv decoded: fin=1 opcode=1 data=b'{\"type\":\"button\",\"data\":\"X+\",\"pressed\":true}'\n",
      "++Rcv raw: b'\\x81,{\"type\":\"button\",\"data\":\"X+\",\"pressed\":true}'\n",
      "++Rcv decoded: fin=1 opcode=1 data=b'{\"type\":\"button\",\"data\":\"X+\",\"pressed\":true}'\n",
      "++Rcv raw: b'\\x81,{\"type\":\"button\",\"data\":\"X+\",\"pressed\":true}'\n",
      "++Rcv decoded: fin=1 opcode=1 data=b'{\"type\":\"button\",\"data\":\"X+\",\"pressed\":true}'\n",
      "++Rcv raw: b'\\x81,{\"type\":\"button\",\"data\":\"X+\",\"pressed\":true}'\n",
      "++Rcv decoded: fin=1 opcode=1 data=b'{\"type\":\"button\",\"data\":\"X+\",\"pressed\":true}'\n",
      "++Rcv raw: b'\\x81,{\"type\":\"button\",\"data\":\"X+\",\"pressed\":true}'\n",
      "++Rcv decoded: fin=1 opcode=1 data=b'{\"type\":\"button\",\"data\":\"X+\",\"pressed\":true}'\n",
      "++Rcv raw: b'\\x81,{\"type\":\"button\",\"data\":\"X+\",\"pressed\":true}'\n",
      "++Rcv decoded: fin=1 opcode=1 data=b'{\"type\":\"button\",\"data\":\"X+\",\"pressed\":true}'\n",
      "++Rcv raw: b'\\x81,{\"type\":\"button\",\"data\":\"X+\",\"pressed\":true}'\n",
      "++Rcv decoded: fin=1 opcode=1 data=b'{\"type\":\"button\",\"data\":\"X+\",\"pressed\":true}'\n",
      "++Rcv raw: b'\\x81,{\"type\":\"button\",\"data\":\"X+\",\"pressed\":true}'\n",
      "++Rcv decoded: fin=1 opcode=1 data=b'{\"type\":\"button\",\"data\":\"X+\",\"pressed\":true}'\n",
      "++Rcv raw: b'\\x81,{\"type\":\"button\",\"data\":\"X+\",\"pressed\":true}'\n",
      "++Rcv decoded: fin=1 opcode=1 data=b'{\"type\":\"button\",\"data\":\"X+\",\"pressed\":true}'\n",
      "++Rcv raw: b'\\x81,{\"type\":\"button\",\"data\":\"X+\",\"pressed\":true}'\n",
      "++Rcv decoded: fin=1 opcode=1 data=b'{\"type\":\"button\",\"data\":\"X+\",\"pressed\":true}'\n",
      "++Rcv raw: b'\\x81,{\"type\":\"button\",\"data\":\"X+\",\"pressed\":true}'\n",
      "++Rcv decoded: fin=1 opcode=1 data=b'{\"type\":\"button\",\"data\":\"X+\",\"pressed\":true}'\n",
      "++Rcv raw: b'\\x81,{\"type\":\"button\",\"data\":\"X+\",\"pressed\":true}'\n",
      "++Rcv decoded: fin=1 opcode=1 data=b'{\"type\":\"button\",\"data\":\"X+\",\"pressed\":true}'\n",
      "++Rcv raw: b'\\x81,{\"type\":\"button\",\"data\":\"X+\",\"pressed\":true}'\n",
      "++Rcv decoded: fin=1 opcode=1 data=b'{\"type\":\"button\",\"data\":\"X+\",\"pressed\":true}'\n"
     ]
    },
    {
     "name": "stdout",
     "output_type": "stream",
     "text": [
      "{\"type\":\"button\",\"data\":\"X+\",\"pressed\":true}\n",
      "{\"type\":\"button\",\"data\":\"X+\",\"pressed\":true}\n",
      "{\"type\":\"button\",\"data\":\"X+\",\"pressed\":true}\n",
      "{\"type\":\"button\",\"data\":\"X+\",\"pressed\":true}\n",
      "{\"type\":\"button\",\"data\":\"X+\",\"pressed\":true}\n",
      "{\"type\":\"button\",\"data\":\"X+\",\"pressed\":true}\n",
      "{\"type\":\"button\",\"data\":\"X+\",\"pressed\":true}\n",
      "{\"type\":\"button\",\"data\":\"X+\",\"pressed\":true}\n",
      "{\"type\":\"button\",\"data\":\"X+\",\"pressed\":true}\n",
      "{\"type\":\"button\",\"data\":\"X+\",\"pressed\":true}\n",
      "{\"type\":\"button\",\"data\":\"X+\",\"pressed\":true}\n",
      "{\"type\":\"button\",\"data\":\"X+\",\"pressed\":true}\n",
      "{\"type\":\"button\",\"data\":\"X+\",\"pressed\":true}\n"
     ]
    },
    {
     "name": "stderr",
     "output_type": "stream",
     "text": [
      "++Rcv raw: b'\\x81,{\"type\":\"button\",\"data\":\"X+\",\"pressed\":true}'\n",
      "++Rcv decoded: fin=1 opcode=1 data=b'{\"type\":\"button\",\"data\":\"X+\",\"pressed\":true}'\n",
      "++Rcv raw: b'\\x81,{\"type\":\"button\",\"data\":\"X+\",\"pressed\":true}'\n",
      "++Rcv decoded: fin=1 opcode=1 data=b'{\"type\":\"button\",\"data\":\"X+\",\"pressed\":true}'\n",
      "++Rcv raw: b'\\x81,{\"type\":\"button\",\"data\":\"X+\",\"pressed\":true}'\n",
      "++Rcv decoded: fin=1 opcode=1 data=b'{\"type\":\"button\",\"data\":\"X+\",\"pressed\":true}'\n",
      "++Rcv raw: b'\\x81,{\"type\":\"button\",\"data\":\"X+\",\"pressed\":true}'\n",
      "++Rcv decoded: fin=1 opcode=1 data=b'{\"type\":\"button\",\"data\":\"X+\",\"pressed\":true}'\n",
      "++Rcv raw: b'\\x81,{\"type\":\"button\",\"data\":\"X+\",\"pressed\":true}'\n",
      "++Rcv decoded: fin=1 opcode=1 data=b'{\"type\":\"button\",\"data\":\"X+\",\"pressed\":true}'\n",
      "++Rcv raw: b'\\x81,{\"type\":\"button\",\"data\":\"X+\",\"pressed\":true}'\n",
      "++Rcv decoded: fin=1 opcode=1 data=b'{\"type\":\"button\",\"data\":\"X+\",\"pressed\":true}'\n",
      "++Rcv raw: b'\\x81,{\"type\":\"button\",\"data\":\"X+\",\"pressed\":true}'\n",
      "++Rcv decoded: fin=1 opcode=1 data=b'{\"type\":\"button\",\"data\":\"X+\",\"pressed\":true}'\n",
      "++Rcv raw: b'\\x81,{\"type\":\"button\",\"data\":\"X+\",\"pressed\":true}'\n",
      "++Rcv decoded: fin=1 opcode=1 data=b'{\"type\":\"button\",\"data\":\"X+\",\"pressed\":true}'\n",
      "++Rcv raw: b'\\x81,{\"type\":\"button\",\"data\":\"X+\",\"pressed\":true}'\n",
      "++Rcv decoded: fin=1 opcode=1 data=b'{\"type\":\"button\",\"data\":\"X+\",\"pressed\":true}'\n"
     ]
    },
    {
     "name": "stdout",
     "output_type": "stream",
     "text": [
      "{\"type\":\"button\",\"data\":\"X+\",\"pressed\":true}\n",
      "{\"type\":\"button\",\"data\":\"X+\",\"pressed\":true}\n",
      "{\"type\":\"button\",\"data\":\"X+\",\"pressed\":true}\n",
      "{\"type\":\"button\",\"data\":\"X+\",\"pressed\":true}\n",
      "{\"type\":\"button\",\"data\":\"X+\",\"pressed\":true}\n",
      "{\"type\":\"button\",\"data\":\"X+\",\"pressed\":true}\n",
      "{\"type\":\"button\",\"data\":\"X+\",\"pressed\":true}\n",
      "{\"type\":\"button\",\"data\":\"X+\",\"pressed\":true}\n",
      "{\"type\":\"button\",\"data\":\"X+\",\"pressed\":true}\n"
     ]
    },
    {
     "name": "stderr",
     "output_type": "stream",
     "text": [
      "++Rcv raw: b'\\x81,{\"type\":\"button\",\"data\":\"X+\",\"pressed\":true}'\n",
      "++Rcv decoded: fin=1 opcode=1 data=b'{\"type\":\"button\",\"data\":\"X+\",\"pressed\":true}'\n",
      "++Rcv raw: b'\\x81,{\"type\":\"button\",\"data\":\"X+\",\"pressed\":true}'\n",
      "++Rcv decoded: fin=1 opcode=1 data=b'{\"type\":\"button\",\"data\":\"X+\",\"pressed\":true}'\n",
      "++Rcv raw: b'\\x81,{\"type\":\"button\",\"data\":\"X+\",\"pressed\":true}'\n",
      "++Rcv decoded: fin=1 opcode=1 data=b'{\"type\":\"button\",\"data\":\"X+\",\"pressed\":true}'\n",
      "++Rcv raw: b'\\x81,{\"type\":\"button\",\"data\":\"X+\",\"pressed\":true}'\n",
      "++Rcv decoded: fin=1 opcode=1 data=b'{\"type\":\"button\",\"data\":\"X+\",\"pressed\":true}'\n"
     ]
    },
    {
     "name": "stdout",
     "output_type": "stream",
     "text": [
      "{\"type\":\"button\",\"data\":\"X+\",\"pressed\":true}\n",
      "{\"type\":\"button\",\"data\":\"X+\",\"pressed\":true}\n",
      "{\"type\":\"button\",\"data\":\"X+\",\"pressed\":true}\n"
     ]
    },
    {
     "name": "stderr",
     "output_type": "stream",
     "text": [
      "++Rcv raw: b'\\x81,{\"type\":\"button\",\"data\":\"X+\",\"pressed\":true}'\n",
      "++Rcv decoded: fin=1 opcode=1 data=b'{\"type\":\"button\",\"data\":\"X+\",\"pressed\":true}'\n",
      "++Rcv raw: b'\\x81,{\"type\":\"button\",\"data\":\"X+\",\"pressed\":true}'\n",
      "++Rcv decoded: fin=1 opcode=1 data=b'{\"type\":\"button\",\"data\":\"X+\",\"pressed\":true}'\n",
      "++Rcv raw: b'\\x81-{\"type\":\"button\",\"data\":\"X+\",\"pressed\":false}'\n",
      "++Rcv decoded: fin=1 opcode=1 data=b'{\"type\":\"button\",\"data\":\"X+\",\"pressed\":false}'\n"
     ]
    },
    {
     "name": "stdout",
     "output_type": "stream",
     "text": [
      "{\"type\":\"button\",\"data\":\"X+\",\"pressed\":true}\n",
      "{\"type\":\"button\",\"data\":\"X+\",\"pressed\":true}\n",
      "{\"type\":\"button\",\"data\":\"X+\",\"pressed\":true}\n",
      "{\"type\":\"button\",\"data\":\"X+\",\"pressed\":false}\n"
     ]
    },
    {
     "name": "stderr",
     "output_type": "stream",
     "text": [
      "++Rcv raw: b'\\x81,{\"type\":\"button\",\"data\":\"up\",\"pressed\":true}'\n",
      "++Rcv decoded: fin=1 opcode=1 data=b'{\"type\":\"button\",\"data\":\"up\",\"pressed\":true}'\n",
      "++Rcv raw: b'\\x81,{\"type\":\"button\",\"data\":\"up\",\"pressed\":true}'\n",
      "++Rcv decoded: fin=1 opcode=1 data=b'{\"type\":\"button\",\"data\":\"up\",\"pressed\":true}'\n",
      "++Rcv raw: b'\\x81,{\"type\":\"button\",\"data\":\"up\",\"pressed\":true}'\n",
      "++Rcv decoded: fin=1 opcode=1 data=b'{\"type\":\"button\",\"data\":\"up\",\"pressed\":true}'\n",
      "++Rcv raw: b'\\x81,{\"type\":\"button\",\"data\":\"up\",\"pressed\":true}'\n",
      "++Rcv decoded: fin=1 opcode=1 data=b'{\"type\":\"button\",\"data\":\"up\",\"pressed\":true}'\n",
      "++Rcv raw: b'\\x81,{\"type\":\"button\",\"data\":\"up\",\"pressed\":true}'\n",
      "++Rcv decoded: fin=1 opcode=1 data=b'{\"type\":\"button\",\"data\":\"up\",\"pressed\":true}'\n",
      "++Rcv raw: b'\\x81,{\"type\":\"button\",\"data\":\"up\",\"pressed\":true}'\n",
      "++Rcv decoded: fin=1 opcode=1 data=b'{\"type\":\"button\",\"data\":\"up\",\"pressed\":true}'\n",
      "++Rcv raw: b'\\x81,{\"type\":\"button\",\"data\":\"up\",\"pressed\":true}'\n",
      "++Rcv decoded: fin=1 opcode=1 data=b'{\"type\":\"button\",\"data\":\"up\",\"pressed\":true}'\n",
      "++Rcv raw: b'\\x81,{\"type\":\"button\",\"data\":\"up\",\"pressed\":true}'\n",
      "++Rcv decoded: fin=1 opcode=1 data=b'{\"type\":\"button\",\"data\":\"up\",\"pressed\":true}'\n",
      "++Rcv raw: b'\\x81,{\"type\":\"button\",\"data\":\"up\",\"pressed\":true}'\n",
      "++Rcv decoded: fin=1 opcode=1 data=b'{\"type\":\"button\",\"data\":\"up\",\"pressed\":true}'\n",
      "++Rcv raw: b'\\x81,{\"type\":\"button\",\"data\":\"up\",\"pressed\":true}'\n",
      "++Rcv decoded: fin=1 opcode=1 data=b'{\"type\":\"button\",\"data\":\"up\",\"pressed\":true}'\n",
      "++Rcv raw: b'\\x81,{\"type\":\"button\",\"data\":\"up\",\"pressed\":true}'\n",
      "++Rcv decoded: fin=1 opcode=1 data=b'{\"type\":\"button\",\"data\":\"up\",\"pressed\":true}'\n"
     ]
    },
    {
     "name": "stdout",
     "output_type": "stream",
     "text": [
      "{\"type\":\"button\",\"data\":\"up\",\"pressed\":true}\n",
      "{\"type\":\"button\",\"data\":\"up\",\"pressed\":true}\n",
      "{\"type\":\"button\",\"data\":\"up\",\"pressed\":true}\n",
      "{\"type\":\"button\",\"data\":\"up\",\"pressed\":true}\n",
      "{\"type\":\"button\",\"data\":\"up\",\"pressed\":true}\n",
      "{\"type\":\"button\",\"data\":\"up\",\"pressed\":true}\n",
      "{\"type\":\"button\",\"data\":\"up\",\"pressed\":true}\n",
      "{\"type\":\"button\",\"data\":\"up\",\"pressed\":true}\n",
      "{\"type\":\"button\",\"data\":\"up\",\"pressed\":true}\n",
      "{\"type\":\"button\",\"data\":\"up\",\"pressed\":true}\n",
      "{\"type\":\"button\",\"data\":\"up\",\"pressed\":true}\n"
     ]
    },
    {
     "name": "stderr",
     "output_type": "stream",
     "text": [
      "++Rcv raw: b'\\x81,{\"type\":\"button\",\"data\":\"up\",\"pressed\":true}'\n",
      "++Rcv decoded: fin=1 opcode=1 data=b'{\"type\":\"button\",\"data\":\"up\",\"pressed\":true}'\n",
      "++Rcv raw: b'\\x81,{\"type\":\"button\",\"data\":\"up\",\"pressed\":true}'\n",
      "++Rcv decoded: fin=1 opcode=1 data=b'{\"type\":\"button\",\"data\":\"up\",\"pressed\":true}'\n",
      "++Rcv raw: b'\\x81,{\"type\":\"button\",\"data\":\"up\",\"pressed\":true}'\n",
      "++Rcv decoded: fin=1 opcode=1 data=b'{\"type\":\"button\",\"data\":\"up\",\"pressed\":true}'\n",
      "++Rcv raw: b'\\x81,{\"type\":\"button\",\"data\":\"up\",\"pressed\":true}'\n",
      "++Rcv decoded: fin=1 opcode=1 data=b'{\"type\":\"button\",\"data\":\"up\",\"pressed\":true}'\n",
      "++Rcv raw: b'\\x81,{\"type\":\"button\",\"data\":\"up\",\"pressed\":true}'\n",
      "++Rcv decoded: fin=1 opcode=1 data=b'{\"type\":\"button\",\"data\":\"up\",\"pressed\":true}'\n",
      "++Rcv raw: b'\\x81,{\"type\":\"button\",\"data\":\"up\",\"pressed\":true}'\n",
      "++Rcv decoded: fin=1 opcode=1 data=b'{\"type\":\"button\",\"data\":\"up\",\"pressed\":true}'\n",
      "++Rcv raw: b'\\x81,{\"type\":\"button\",\"data\":\"up\",\"pressed\":true}'\n",
      "++Rcv decoded: fin=1 opcode=1 data=b'{\"type\":\"button\",\"data\":\"up\",\"pressed\":true}'\n",
      "++Rcv raw: b'\\x81,{\"type\":\"button\",\"data\":\"up\",\"pressed\":true}'\n",
      "++Rcv decoded: fin=1 opcode=1 data=b'{\"type\":\"button\",\"data\":\"up\",\"pressed\":true}'\n",
      "++Rcv raw: b'\\x81,{\"type\":\"button\",\"data\":\"up\",\"pressed\":true}'\n",
      "++Rcv decoded: fin=1 opcode=1 data=b'{\"type\":\"button\",\"data\":\"up\",\"pressed\":true}'\n",
      "++Rcv raw: b'\\x81,{\"type\":\"button\",\"data\":\"up\",\"pressed\":true}'\n",
      "++Rcv decoded: fin=1 opcode=1 data=b'{\"type\":\"button\",\"data\":\"up\",\"pressed\":true}'\n",
      "++Rcv raw: b'\\x81,{\"type\":\"button\",\"data\":\"up\",\"pressed\":true}'\n",
      "++Rcv decoded: fin=1 opcode=1 data=b'{\"type\":\"button\",\"data\":\"up\",\"pressed\":true}'\n",
      "++Rcv raw: b'\\x81,{\"type\":\"button\",\"data\":\"up\",\"pressed\":true}'\n",
      "++Rcv decoded: fin=1 opcode=1 data=b'{\"type\":\"button\",\"data\":\"up\",\"pressed\":true}'\n",
      "++Rcv raw: b'\\x81,{\"type\":\"button\",\"data\":\"up\",\"pressed\":true}'\n",
      "++Rcv decoded: fin=1 opcode=1 data=b'{\"type\":\"button\",\"data\":\"up\",\"pressed\":true}'\n",
      "++Rcv raw: b'\\x81,{\"type\":\"button\",\"data\":\"up\",\"pressed\":true}'\n"
     ]
    },
    {
     "name": "stdout",
     "output_type": "stream",
     "text": [
      "{\"type\":\"button\",\"data\":\"up\",\"pressed\":true}\n",
      "{\"type\":\"button\",\"data\":\"up\",\"pressed\":true}\n",
      "{\"type\":\"button\",\"data\":\"up\",\"pressed\":true}\n",
      "{\"type\":\"button\",\"data\":\"up\",\"pressed\":true}\n",
      "{\"type\":\"button\",\"data\":\"up\",\"pressed\":true}\n",
      "{\"type\":\"button\",\"data\":\"up\",\"pressed\":true}\n",
      "{\"type\":\"button\",\"data\":\"up\",\"pressed\":true}\n",
      "{\"type\":\"button\",\"data\":\"up\",\"pressed\":true}\n",
      "{\"type\":\"button\",\"data\":\"up\",\"pressed\":true}\n",
      "{\"type\":\"button\",\"data\":\"up\",\"pressed\":true}\n",
      "{\"type\":\"button\",\"data\":\"up\",\"pressed\":true}\n",
      "{\"type\":\"button\",\"data\":\"up\",\"pressed\":true}\n",
      "{\"type\":\"button\",\"data\":\"up\",\"pressed\":true}\n"
     ]
    },
    {
     "name": "stderr",
     "output_type": "stream",
     "text": [
      "++Rcv decoded: fin=1 opcode=1 data=b'{\"type\":\"button\",\"data\":\"up\",\"pressed\":true}'\n",
      "++Rcv raw: b'\\x81,{\"type\":\"button\",\"data\":\"up\",\"pressed\":true}'\n",
      "++Rcv decoded: fin=1 opcode=1 data=b'{\"type\":\"button\",\"data\":\"up\",\"pressed\":true}'\n",
      "++Rcv raw: b'\\x81,{\"type\":\"button\",\"data\":\"up\",\"pressed\":true}'\n",
      "++Rcv decoded: fin=1 opcode=1 data=b'{\"type\":\"button\",\"data\":\"up\",\"pressed\":true}'\n",
      "++Rcv raw: b'\\x81,{\"type\":\"button\",\"data\":\"up\",\"pressed\":true}'\n",
      "++Rcv decoded: fin=1 opcode=1 data=b'{\"type\":\"button\",\"data\":\"up\",\"pressed\":true}'\n",
      "++Rcv raw: b'\\x81,{\"type\":\"button\",\"data\":\"up\",\"pressed\":true}'\n",
      "++Rcv decoded: fin=1 opcode=1 data=b'{\"type\":\"button\",\"data\":\"up\",\"pressed\":true}'\n",
      "++Rcv raw: b'\\x81,{\"type\":\"button\",\"data\":\"up\",\"pressed\":true}'\n",
      "++Rcv decoded: fin=1 opcode=1 data=b'{\"type\":\"button\",\"data\":\"up\",\"pressed\":true}'\n",
      "++Rcv raw: b'\\x81,{\"type\":\"button\",\"data\":\"up\",\"pressed\":true}'\n",
      "++Rcv decoded: fin=1 opcode=1 data=b'{\"type\":\"button\",\"data\":\"up\",\"pressed\":true}'\n",
      "++Rcv raw: b'\\x81,{\"type\":\"button\",\"data\":\"up\",\"pressed\":true}'\n",
      "++Rcv decoded: fin=1 opcode=1 data=b'{\"type\":\"button\",\"data\":\"up\",\"pressed\":true}'\n",
      "++Rcv raw: b'\\x81,{\"type\":\"button\",\"data\":\"up\",\"pressed\":true}'\n",
      "++Rcv decoded: fin=1 opcode=1 data=b'{\"type\":\"button\",\"data\":\"up\",\"pressed\":true}'\n",
      "++Rcv raw: b'\\x81,{\"type\":\"button\",\"data\":\"up\",\"pressed\":true}'\n",
      "++Rcv decoded: fin=1 opcode=1 data=b'{\"type\":\"button\",\"data\":\"up\",\"pressed\":true}'\n",
      "++Rcv raw: b'\\x81,{\"type\":\"button\",\"data\":\"up\",\"pressed\":true}'\n"
     ]
    },
    {
     "name": "stdout",
     "output_type": "stream",
     "text": [
      "{\"type\":\"button\",\"data\":\"up\",\"pressed\":true}\n",
      "{\"type\":\"button\",\"data\":\"up\",\"pressed\":true}\n",
      "{\"type\":\"button\",\"data\":\"up\",\"pressed\":true}\n",
      "{\"type\":\"button\",\"data\":\"up\",\"pressed\":true}\n",
      "{\"type\":\"button\",\"data\":\"up\",\"pressed\":true}\n",
      "{\"type\":\"button\",\"data\":\"up\",\"pressed\":true}\n",
      "{\"type\":\"button\",\"data\":\"up\",\"pressed\":true}\n",
      "{\"type\":\"button\",\"data\":\"up\",\"pressed\":true}\n",
      "{\"type\":\"button\",\"data\":\"up\",\"pressed\":true}\n",
      "{\"type\":\"button\",\"data\":\"up\",\"pressed\":true}\n"
     ]
    },
    {
     "name": "stderr",
     "output_type": "stream",
     "text": [
      "++Rcv decoded: fin=1 opcode=1 data=b'{\"type\":\"button\",\"data\":\"up\",\"pressed\":true}'\n",
      "++Rcv raw: b'\\x81,{\"type\":\"button\",\"data\":\"up\",\"pressed\":true}'\n",
      "++Rcv decoded: fin=1 opcode=1 data=b'{\"type\":\"button\",\"data\":\"up\",\"pressed\":true}'\n",
      "++Rcv raw: b'\\x81,{\"type\":\"button\",\"data\":\"up\",\"pressed\":true}'\n",
      "++Rcv decoded: fin=1 opcode=1 data=b'{\"type\":\"button\",\"data\":\"up\",\"pressed\":true}'\n",
      "++Rcv raw: b'\\x81,{\"type\":\"button\",\"data\":\"up\",\"pressed\":true}'\n",
      "++Rcv decoded: fin=1 opcode=1 data=b'{\"type\":\"button\",\"data\":\"up\",\"pressed\":true}'\n",
      "++Rcv raw: b'\\x81,{\"type\":\"button\",\"data\":\"up\",\"pressed\":true}'\n"
     ]
    },
    {
     "name": "stdout",
     "output_type": "stream",
     "text": [
      "{\"type\":\"button\",\"data\":\"up\",\"pressed\":true}\n",
      "{\"type\":\"button\",\"data\":\"up\",\"pressed\":true}\n",
      "{\"type\":\"button\",\"data\":\"up\",\"pressed\":true}\n",
      "{\"type\":\"button\",\"data\":\"up\",\"pressed\":true}\n"
     ]
    },
    {
     "name": "stderr",
     "output_type": "stream",
     "text": [
      "++Rcv decoded: fin=1 opcode=1 data=b'{\"type\":\"button\",\"data\":\"up\",\"pressed\":true}'\n",
      "++Rcv raw: b'\\x81,{\"type\":\"button\",\"data\":\"up\",\"pressed\":true}'\n",
      "++Rcv decoded: fin=1 opcode=1 data=b'{\"type\":\"button\",\"data\":\"up\",\"pressed\":true}'\n",
      "++Rcv raw: b'\\x81,{\"type\":\"button\",\"data\":\"up\",\"pressed\":true}'\n",
      "++Rcv decoded: fin=1 opcode=1 data=b'{\"type\":\"button\",\"data\":\"up\",\"pressed\":true}'\n"
     ]
    },
    {
     "name": "stdout",
     "output_type": "stream",
     "text": [
      "{\"type\":\"button\",\"data\":\"up\",\"pressed\":true}\n",
      "{\"type\":\"button\",\"data\":\"up\",\"pressed\":true}\n",
      "{\"type\":\"button\",\"data\":\"up\",\"pressed\":true}\n"
     ]
    },
    {
     "name": "stderr",
     "output_type": "stream",
     "text": [
      "++Rcv raw: b'\\x81-{\"type\":\"button\",\"data\":\"up\",\"pressed\":false}'\n",
      "++Rcv decoded: fin=1 opcode=1 data=b'{\"type\":\"button\",\"data\":\"up\",\"pressed\":false}'\n"
     ]
    },
    {
     "name": "stdout",
     "output_type": "stream",
     "text": [
      "{\"type\":\"button\",\"data\":\"up\",\"pressed\":false}\n"
     ]
    },
    {
     "name": "stderr",
     "output_type": "stream",
     "text": [
      "Connection to remote host was lost. - goodbye\n",
      "error from callback <function on_close at 0x00000276D186CA60>: on_close() takes 1 positional argument but 3 were given\n"
     ]
    },
    {
     "name": "stdout",
     "output_type": "stream",
     "text": [
      "Connection to remote host was lost.\n",
      "on_close() takes 1 positional argument but 3 were given\n"
     ]
    }
   ],
   "source": [
    "def run(*args):\n",
    "        ws.run_forever()\n",
    "thread.start_new_thread(run, ())"
   ]
  },
  {
   "cell_type": "code",
   "execution_count": null,
   "metadata": {},
   "outputs": [],
   "source": []
  },
  {
   "cell_type": "markdown",
   "metadata": {},
   "source": [
    "### Close Connection"
   ]
  },
  {
   "cell_type": "code",
   "execution_count": 10,
   "metadata": {},
   "outputs": [
    {
     "name": "stderr",
     "output_type": "stream",
     "text": [
      "++Sent raw: b'\\x88\\x823\\xcbE\\x7f0#'\n",
      "++Sent decoded: fin=1 opcode=8 data=b'\\x03\\xe8'\n"
     ]
    }
   ],
   "source": [
    "ws.close()"
   ]
  },
  {
   "cell_type": "code",
   "execution_count": null,
   "metadata": {},
   "outputs": [],
   "source": []
  },
  {
   "cell_type": "code",
   "execution_count": null,
   "metadata": {},
   "outputs": [],
   "source": []
  },
  {
   "cell_type": "code",
   "execution_count": null,
   "metadata": {},
   "outputs": [],
   "source": []
  },
  {
   "cell_type": "code",
   "execution_count": null,
   "metadata": {},
   "outputs": [],
   "source": []
  },
  {
   "cell_type": "code",
   "execution_count": null,
   "metadata": {},
   "outputs": [],
   "source": []
  }
 ],
 "metadata": {
  "kernelspec": {
   "display_name": "Python 3",
   "language": "python",
   "name": "python3"
  },
  "language_info": {
   "codemirror_mode": {
    "name": "ipython",
    "version": 3
   },
   "file_extension": ".py",
   "mimetype": "text/x-python",
   "name": "python",
   "nbconvert_exporter": "python",
   "pygments_lexer": "ipython3",
   "version": "3.9.12"
  }
 },
 "nbformat": 4,
 "nbformat_minor": 2
}
